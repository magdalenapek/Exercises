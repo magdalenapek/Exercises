{
 "cells": [
  {
   "cell_type": "markdown",
   "id": "6ac2c937-5a81-4061-bef2-84c4dd877099",
   "metadata": {},
   "source": [
    "Pobierz od uzytkownika imie, rok urodzenia i biezacy rok. Nastepni wswietl na konsoli informacje\n",
    "”Witaj! imie, masz wiek uzytkownika lat!"
   ]
  },
  {
   "cell_type": "code",
   "execution_count": 2,
   "id": "ba21ff50-2bc3-43f8-aade-f4fb56b61b7d",
   "metadata": {},
   "outputs": [
    {
     "name": "stdin",
     "output_type": "stream",
     "text": [
      "Enter a name:  Magda\n",
      "Enter a birth year:  1998\n",
      "Enter current year:  2022\n"
     ]
    },
    {
     "name": "stdout",
     "output_type": "stream",
     "text": [
      "Witaj! Magda, masz 24 lat!\n"
     ]
    }
   ],
   "source": [
    "name = input(\"Enter a name: \")\n",
    "birth_year = int(input(\"Enter a birth year: \"))\n",
    "now = int(input(\"Enter current year: \"))\n",
    "\n",
    "print(f\"Witaj! {name}, masz {now - birth_year} lat!\")"
   ]
  },
  {
   "cell_type": "markdown",
   "id": "94b7349a-6959-4d09-9cc7-fd45992f86c9",
   "metadata": {},
   "source": [
    "Pobierz od uzytkownika dwie liczby i jeden znak. Nastepnie w zaleznosci od znaku wyswietl na konsoli\n",
    "sume/roznice/iloczyn/iloraz tych dwoch liczb."
   ]
  },
  {
   "cell_type": "code",
   "execution_count": null,
   "id": "cdb7fd52-0d4e-4065-ada6-a39d67cf5662",
   "metadata": {},
   "outputs": [],
   "source": [
    "a = int(input('Enter first number: '))\n",
    "b = int(input('Enter second number: ' ))\n",
    "sign = input('"
   ]
  }
 ],
 "metadata": {
  "kernelspec": {
   "display_name": "Python 3 (ipykernel)",
   "language": "python",
   "name": "python3"
  },
  "language_info": {
   "codemirror_mode": {
    "name": "ipython",
    "version": 3
   },
   "file_extension": ".py",
   "mimetype": "text/x-python",
   "name": "python",
   "nbconvert_exporter": "python",
   "pygments_lexer": "ipython3",
   "version": "3.10.8"
  }
 },
 "nbformat": 4,
 "nbformat_minor": 5
}
